{
 "cells": [
  {
   "cell_type": "code",
   "execution_count": 46,
   "metadata": {},
   "outputs": [],
   "source": [
    "from blackjack import BlackJack\n",
    "import numpy as np\n",
    "from mpl_toolkits.mplot3d import axes3d\n",
    "import matplotlib.pyplot as plt\n",
    "%matplotlib inline"
   ]
  },
  {
   "cell_type": "code",
   "execution_count": 15,
   "metadata": {},
   "outputs": [],
   "source": [
    "game = BlackJack()"
   ]
  },
  {
   "cell_type": "code",
   "execution_count": 16,
   "metadata": {},
   "outputs": [
    {
     "name": "stdout",
     "output_type": "stream",
     "text": [
      "7 Five False\n"
     ]
    }
   ],
   "source": [
    "game.print_state()"
   ]
  },
  {
   "cell_type": "code",
   "execution_count": 128,
   "metadata": {},
   "outputs": [],
   "source": [
    "def policy(state):\n",
    "    (card_sum, dealer_card, usable_ace) = state\n",
    "    if card_sum < 16:\n",
    "        return \"hit\"\n",
    "    elif card_sum < 20 and usable_ace:\n",
    "        return \"hit\"\n",
    "    else:\n",
    "        return \"stick\""
   ]
  },
  {
   "cell_type": "code",
   "execution_count": 149,
   "metadata": {
    "scrolled": true
   },
   "outputs": [],
   "source": [
    "#MC policy evaluation\n",
    "#number of states is given by (21 - 12 + 1) * (Ace-King) * 2\n",
    "total_returns = np.zeros((21-12+1, 13, 2))\n",
    "total_visits = np.ones((21-12+1, 13, 2))\n",
    "score = 0\n",
    "iters = 500000\n",
    "for i in range(500000):\n",
    "    game = BlackJack()\n",
    "    states = []\n",
    "    while(not(game.game_ended)):\n",
    "#         game.print_state()\n",
    "        current_state = game.get_state()\n",
    "        states.append(current_state)\n",
    "        action = policy(game.get_state())\n",
    "#         print(\"Action: {}\".format(action))\n",
    "        game.take_action(action)\n",
    "#     game.print_player_hand()\n",
    "#     game.print_dealer_hand()\n",
    "#     print(game.game_outcome)\n",
    "    \n",
    "    score +=game.game_outcome\n",
    "    for state in states:\n",
    "        total_returns[state[0] - 12, state[1], 1 if state[2] else 0] += game.game_outcome\n",
    "        total_visits[state[0] - 12, state[1], 1 if state[2] else 0] += 1\n",
    "\n",
    "state_values = total_returns/total_visits;\n",
    "# print(state_values)"
   ]
  },
  {
   "cell_type": "code",
   "execution_count": 150,
   "metadata": {},
   "outputs": [
    {
     "name": "stdout",
     "output_type": "stream",
     "text": [
      "-0.012624\n"
     ]
    }
   ],
   "source": [
    "print(score/iters)"
   ]
  },
  {
   "cell_type": "markdown",
   "metadata": {},
   "source": [
    "#### fig = plt.figure(figsize=(30,10))\n",
    "\n",
    "X = np.arange(1, 14) #Dealer showing card \n",
    "Y = np.arange(12, 22) #Player sum\n",
    "X, Y = np.meshgrid(X, Y)\n",
    "\n",
    "#Without usable ace\n",
    "ax = fig.add_subplot(121, projection='3d')\n",
    "ax.view_init(50, -45)\n",
    "ax.plot_wireframe(X, Y, state_values[:,:,0], rstride=1, cstride=1, linewidth=1)\n",
    "ax.set_title(\"No usable ace\")\n",
    "ax.set_xlabel(\"Dealer showing\")\n",
    "ax.set_ylabel(\"Player sum\")\n",
    "\n",
    "ax = fig.add_subplot(122, projection='3d')\n",
    "ax.view_init(50, -45)\n",
    "ax.plot_wireframe(X, Y, state_values[:,:,1], rstride=1, cstride=1, linewidth=1, color=\"g\")\n",
    "ax.set_title(\"Usable ace\")\n",
    "ax.set_xlabel(\"Dealer showing\")\n",
    "ax.set_ylabel(\"Player sum\")\n"
   ]
  },
  {
   "cell_type": "code",
   "execution_count": null,
   "metadata": {},
   "outputs": [],
   "source": []
  }
 ],
 "metadata": {
  "kernelspec": {
   "display_name": "Python 3",
   "language": "python",
   "name": "python3"
  },
  "language_info": {
   "codemirror_mode": {
    "name": "ipython",
    "version": 3
   },
   "file_extension": ".py",
   "mimetype": "text/x-python",
   "name": "python",
   "nbconvert_exporter": "python",
   "pygments_lexer": "ipython3",
   "version": "3.6.4"
  },
  "toc": {
   "nav_menu": {},
   "number_sections": true,
   "sideBar": true,
   "skip_h1_title": false,
   "toc_cell": false,
   "toc_position": {},
   "toc_section_display": "block",
   "toc_window_display": false
  }
 },
 "nbformat": 4,
 "nbformat_minor": 2
}
