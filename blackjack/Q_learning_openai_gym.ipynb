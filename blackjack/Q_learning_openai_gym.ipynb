{
 "cells": [
  {
   "cell_type": "code",
   "execution_count": 11,
   "metadata": {},
   "outputs": [],
   "source": [
    "import gym\n",
    "from gym import spaces\n",
    "\n",
    "class BlackjackGame(gym.Env):\n",
    "    def __init__(self):\n",
    "        self.action_space = spaces.Discrete(2)\n",
    "    \n",
    "    def _step(self, action):\n",
    "        pass\n",
    "\n",
    "    def _reset(self):\n",
    "        pass\n",
    "    \n",
    "    def _render(self, mode='human', close=False):\n",
    "        pass"
   ]
  },
  {
   "cell_type": "code",
   "execution_count": 23,
   "metadata": {},
   "outputs": [
    {
     "name": "stdout",
     "output_type": "stream",
     "text": [
      "(16, 10, True)\n",
      "(21, 10, True)\n",
      "Episode finished after 2 timesteps\n",
      "Reward: 1.0\n"
     ]
    }
   ],
   "source": [
    "import gym\n",
    "env = gym.make('Blackjack-v0')\n",
    "for i_episode in range(1):\n",
    "    observation = env.reset()\n",
    "    for t in range(100):\n",
    "#         env.render()\n",
    "        print(observation)\n",
    "        action = env.action_space.sample()\n",
    "        observation, reward, done, info = env.step(action)\n",
    "        if done:\n",
    "            print(\"Episode finished after {} timesteps\".format(t+1))\n",
    "            print(\"Reward: {}\".format(reward))\n",
    "            break"
   ]
  },
  {
   "cell_type": "code",
   "execution_count": 25,
   "metadata": {},
   "outputs": [
    {
     "name": "stdout",
     "output_type": "stream",
     "text": [
      "Tuple(Discrete(32), Discrete(11), Discrete(2))\n",
      "Discrete(2)\n"
     ]
    }
   ],
   "source": [
    "print(env.observation_space)\n",
    "print(env.action_space)"
   ]
  },
  {
   "cell_type": "code",
   "execution_count": 42,
   "metadata": {},
   "outputs": [],
   "source": [
    "def greedy(Q, state):\n",
    "    return np.argmax(Q[state])\n",
    "\n",
    "def ϵ_greedy(Q, state, ϵ = 0.1):\n",
    "    return np.random.choice([0,1]) if (np.random.rand() < ϵ) else greedy(Q, state)\n",
    "\n",
    "def play_optimally(Q):\n",
    "    state = env.reset()\n",
    "    done = False\n",
    "    while(not(done)):\n",
    "        action = greedy(Q, state)\n",
    "        state, reward, done, info = env.step(action)\n",
    "    return reward"
   ]
  },
  {
   "cell_type": "code",
   "execution_count": 81,
   "metadata": {},
   "outputs": [
    {
     "name": "stderr",
     "output_type": "stream",
     "text": [
      "/Users/sebastian/anaconda/envs/python3/lib/python3.6/site-packages/ipykernel_launcher.py:2: VisibleDeprecationWarning: using a boolean instead of an integer will result in an error in the future\n",
      "  \n",
      "/Users/sebastian/anaconda/envs/python3/lib/python3.6/site-packages/ipykernel_launcher.py:20: VisibleDeprecationWarning: using a boolean instead of an integer will result in an error in the future\n",
      "/Users/sebastian/anaconda/envs/python3/lib/python3.6/site-packages/ipykernel_launcher.py:21: VisibleDeprecationWarning: using a boolean instead of an integer will result in an error in the future\n"
     ]
    }
   ],
   "source": [
    "import numpy as np\n",
    "\n",
    "Q = np.zeros((32,11,2,2))\n",
    "iters = 1\n",
    "α = 0.1\n",
    "λ = 1\n",
    "\n",
    "results = []\n",
    "\n",
    "ϵ_0 = 0.1\n",
    "ϵ_end = 0.001\n",
    "ϵ = ϵ_0\n",
    "\n",
    "for i in range(iters):\n",
    "    current_state = env.reset()\n",
    "    done = False\n",
    "    while not(done):\n",
    "        action = ϵ_greedy(Q, current_state, ϵ = ϵ_0)\n",
    "        next_state, reward, done, info = env.step(action)\n",
    "    new_estimate = reward + λ * Q[next_state][greedy(Q, next_state)] \n",
    "    Q[current_state][action] = (1 - α) * Q[current_state][action] +  α * new_estimate\n",
    "        \n",
    "    current_state = next_state\n",
    "    \n",
    "#     if i % 10000 == 0:\n",
    "#         s = 0\n",
    "#         for j in range(1000):\n",
    "#             s += play_optimally(Q)\n",
    "#         results.append(s/1000)\n",
    "#         print(\"Iteration {}, ϵ={}, {}\".format(i, np.round(ϵ, 4), results[-1]))\n"
   ]
  },
  {
   "cell_type": "code",
   "execution_count": 75,
   "metadata": {
    "scrolled": true
   },
   "outputs": [
    {
     "name": "stdout",
     "output_type": "stream",
     "text": [
      "[[0 1 0 0 0 0 0 0 0 0 0]\n",
      " [0 0 0 0 0 0 0 0 0 0 0]\n",
      " [0 1 0 0 0 0 0 0 0 0 0]\n",
      " [0 1 0 0 0 0 0 0 0 0 0]\n",
      " [0 1 0 0 0 0 0 0 0 0 0]\n",
      " [0 0 0 0 0 0 0 0 0 0 0]\n",
      " [0 0 0 0 0 0 0 0 0 0 0]\n",
      " [0 0 0 0 0 0 0 0 0 0 0]\n",
      " [0 0 0 0 0 0 0 0 0 0 0]\n",
      " [0 0 0 0 0 0 0 0 0 0 0]]\n",
      "[[0 0 0 0 0 0 0 0 0 0 0]\n",
      " [0 1 0 0 0 0 0 0 0 0 0]\n",
      " [0 1 0 0 0 0 0 0 0 0 0]\n",
      " [0 0 0 0 0 0 0 0 0 0 0]\n",
      " [0 1 0 0 0 0 0 0 0 0 0]\n",
      " [0 0 0 0 0 0 0 0 0 0 0]\n",
      " [0 0 0 0 0 0 0 0 0 0 0]\n",
      " [0 0 0 0 0 0 0 0 0 0 0]\n",
      " [0 0 0 0 0 0 0 0 0 0 0]\n",
      " [0 0 0 0 0 0 0 0 0 0 0]]\n"
     ]
    },
    {
     "data": {
      "image/png": "[encoded data removed]",
      "text/plain": [
       "<matplotlib.figure.Figure at 0x11156be48>"
      ]
     },
     "metadata": {},
     "output_type": "display_data"
    },
    {
     "data": {
      "image/png": "[encoded data removed]",
      "text/plain": [
       "<matplotlib.figure.Figure at 0x115ad8ba8>"
      ]
     },
     "metadata": {},
     "output_type": "display_data"
    }
   ],
   "source": [
    "import matplotlib.pyplot as plt\n",
    "%matplotlib inline\n",
    "\n",
    "dealer_cards = np.arange(10)\n",
    "\n",
    "def plot_policy(usable_ace, title = \"\"):\n",
    "    values = np.argmax(Q[12:22,:,int(usable_ace)], axis=-1)\n",
    "    print(values)\n",
    "    min_sticks = np.array([np.argwhere(value > 0)[0]  if (len(np.argwhere(value > 0)) > 0) else 11 for value in values]).reshape(-1)\n",
    "    plt.step(dealer_cards+1, min_sticks+11.5, where=\"mid\")\n",
    "    plt.xlabel(\"Dealer card\")\n",
    "    plt.ylabel(\"Player sum\")\n",
    "    plt.xlim(1, 10)\n",
    "    plt.ylim(12,21)\n",
    "    plt.title(title)\n",
    "    \n",
    "plot_policy(0, title=\"No usable ace\")\n",
    "plt.figure()\n",
    "plot_policy(1, title=\"Usable ace\")"
   ]
  },
  {
   "cell_type": "code",
   "execution_count": 76,
   "metadata": {},
   "outputs": [
    {
     "name": "stdout",
     "output_type": "stream",
     "text": [
      "[[   0.            0.        ]\n",
      " [   0.85745171   -1.        ]\n",
      " [  87.0056501    -0.97496844]\n",
      " [  76.46463861   -0.84990536]\n",
      " [ 104.14652582   -0.84990536]\n",
      " [ 107.61266358   -0.19      ]\n",
      " [ 139.13691269   -0.91137062]\n",
      " [  75.32368312   -0.79410887]\n",
      " [ 121.58656837   -0.98669721]\n",
      " [  57.68034131   -0.99978153]\n",
      " [  20.84126217   -1.        ]]\n",
      "[0 0 0 0 0 0 0 0 0 0 0]\n"
     ]
    }
   ],
   "source": [
    "print(Q[12,:,1])\n",
    "print(np.argmax(Q[13,:,0], axis=1))"
   ]
  },
  {
   "cell_type": "code",
   "execution_count": null,
   "metadata": {},
   "outputs": [],
   "source": []
  }
 ],
 "metadata": {
  "kernelspec": {
   "display_name": "Python 3",
   "language": "python",
   "name": "python3"
  },
  "language_info": {
   "codemirror_mode": {
    "name": "ipython",
    "version": 3
   },
   "file_extension": ".py",
   "mimetype": "text/x-python",
   "name": "python",
   "nbconvert_exporter": "python",
   "pygments_lexer": "ipython3",
   "version": "3.6.4"
  },
  "toc": {
   "nav_menu": {},
   "number_sections": true,
   "sideBar": true,
   "skip_h1_title": false,
   "toc_cell": false,
   "toc_position": {},
   "toc_section_display": "block",
   "toc_window_display": false
  }
 },
 "nbformat": 4,
 "nbformat_minor": 2
}
